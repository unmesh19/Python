{
 "cells": [
  {
   "cell_type": "markdown",
   "id": "f95e30c2-1f01-414a-bfed-143b19e33b48",
   "metadata": {},
   "source": [
    "1. Create a list of squared integers from a given list of integers. "
   ]
  },
  {
   "cell_type": "code",
   "execution_count": 1,
   "id": "8fbe037a-475b-419b-b49a-84a33b7d166e",
   "metadata": {},
   "outputs": [],
   "source": [
    "def Sqr_list():\n",
    "    l = input(\"Give elements of list with spaces :\")\n",
    "    return [int(float(i)**2) for i in l.split()]"
   ]
  },
  {
   "cell_type": "code",
   "execution_count": 2,
   "id": "04e4997d-34a9-41b1-8246-946391392936",
   "metadata": {},
   "outputs": [
    {
     "name": "stdin",
     "output_type": "stream",
     "text": [
      "Give elements of list with spaces : 2 5 8\n"
     ]
    },
    {
     "data": {
      "text/plain": [
       "[4, 25, 64]"
      ]
     },
     "execution_count": 2,
     "metadata": {},
     "output_type": "execute_result"
    }
   ],
   "source": [
    "Sqr_list()"
   ]
  },
  {
   "cell_type": "markdown",
   "id": "d08a889c-c14c-4231-811c-7ae0a8aa3bfa",
   "metadata": {},
   "source": [
    "2. Create a list of even numbers from a given list of integers. "
   ]
  },
  {
   "cell_type": "code",
   "execution_count": 3,
   "id": "f67ada8b-a301-47b3-819e-72f262f15bc4",
   "metadata": {},
   "outputs": [],
   "source": [
    "def get_even():\n",
    "    l = input(\"Give elements of list with spaces :\")\n",
    "    l1 = [int(i) for i in l.split() if int(i)%2 == 0]\n",
    "    return l1"
   ]
  },
  {
   "cell_type": "code",
   "execution_count": 4,
   "id": "11817ee6-053a-4490-b1ef-2395252a0df5",
   "metadata": {},
   "outputs": [
    {
     "name": "stdin",
     "output_type": "stream",
     "text": [
      "Give elements of list with spaces : 1 2 3 5 7 9\n"
     ]
    },
    {
     "data": {
      "text/plain": [
       "[2]"
      ]
     },
     "execution_count": 4,
     "metadata": {},
     "output_type": "execute_result"
    }
   ],
   "source": [
    "get_even()"
   ]
  },
  {
   "cell_type": "markdown",
   "id": "9c1d6ff9-5eab-48c4-943d-cc155b867b45",
   "metadata": {},
   "source": [
    "3. Create a list of vowels from a given string."
   ]
  },
  {
   "cell_type": "code",
   "execution_count": 5,
   "id": "47f9263d-9d3f-49f5-9384-796897ff9d5d",
   "metadata": {},
   "outputs": [],
   "source": [
    "def get_vowels():\n",
    "    l = input(\"Give your string: \")\n",
    "    l1 = [i.lower() for i in l if i.lower() in [\"a\", \"e\", \"i\", \"o\", \"u\"]]\n",
    "    return l1"
   ]
  },
  {
   "cell_type": "code",
   "execution_count": 6,
   "id": "20eddcaa-c2b3-4560-810a-c8fd85ff43ba",
   "metadata": {},
   "outputs": [
    {
     "name": "stdin",
     "output_type": "stream",
     "text": [
      "Give your string:  I am good at python\n"
     ]
    },
    {
     "data": {
      "text/plain": [
       "['i', 'a', 'o', 'o', 'a', 'o']"
      ]
     },
     "execution_count": 6,
     "metadata": {},
     "output_type": "execute_result"
    }
   ],
   "source": [
    "get_vowels()"
   ]
  },
  {
   "cell_type": "markdown",
   "id": "09cf31de-c06f-46d8-a034-a7fd4aa5b91c",
   "metadata": {},
   "source": [
    "4. Create a list of all the words in a given sentence. "
   ]
  },
  {
   "cell_type": "code",
   "execution_count": 7,
   "id": "df9aed58-168f-431e-a8fd-6145e4f42c44",
   "metadata": {},
   "outputs": [],
   "source": [
    "def get_word():\n",
    "    l = input(\"Give your senetence :\")\n",
    "    return l.split()"
   ]
  },
  {
   "cell_type": "code",
   "execution_count": 8,
   "id": "37477549-3d43-4984-b2de-2612dde20d7a",
   "metadata": {},
   "outputs": [
    {
     "name": "stdin",
     "output_type": "stream",
     "text": [
      "Give your senetence : I am not that good at java\n"
     ]
    },
    {
     "data": {
      "text/plain": [
       "['I', 'am', 'not', 'that', 'good', 'at', 'java']"
      ]
     },
     "execution_count": 8,
     "metadata": {},
     "output_type": "execute_result"
    }
   ],
   "source": [
    "get_word()"
   ]
  },
  {
   "cell_type": "markdown",
   "id": "a90d839e-9391-4272-af5d-2a1267716c8d",
   "metadata": {},
   "source": [
    "5. Create a list of all the positive numbers from a given list of integers."
   ]
  },
  {
   "cell_type": "code",
   "execution_count": 9,
   "id": "2e024b15-7c4a-4ce2-ac52-676fdcd9d010",
   "metadata": {},
   "outputs": [],
   "source": [
    "def get_positive():\n",
    "    l = input(\"Give elements of the list with spaces: \")\n",
    "    l1 = [int(i) for i in l.split() if int(i) >= 0]\n",
    "    return l1"
   ]
  },
  {
   "cell_type": "code",
   "execution_count": 10,
   "id": "6955ecee-bf51-4e81-9167-6a2aed261420",
   "metadata": {},
   "outputs": [
    {
     "name": "stdin",
     "output_type": "stream",
     "text": [
      "Give elements of the list with spaces:  2 -5 -2 -7 1 0\n"
     ]
    },
    {
     "data": {
      "text/plain": [
       "[2, 1, 0]"
      ]
     },
     "execution_count": 10,
     "metadata": {},
     "output_type": "execute_result"
    }
   ],
   "source": [
    "get_positive()"
   ]
  },
  {
   "cell_type": "markdown",
   "id": "6edc05b8-8ed5-4e77-950b-40326050734a",
   "metadata": {},
   "source": [
    "6. Write a program to check if a string is a palindrome. "
   ]
  },
  {
   "cell_type": "code",
   "execution_count": 11,
   "id": "4bf7da63-84f0-4f79-b64a-54a4336df2b1",
   "metadata": {},
   "outputs": [],
   "source": [
    "def is_palindrome():\n",
    "    l = input(\"Give your string :\").replace(\" \", \"\").lower()\n",
    "    if l[::-1] == l:\n",
    "        print(\"Given string is a palindrome\")\n",
    "    else:\n",
    "        print(\"Given string is not a palindrome\")"
   ]
  },
  {
   "cell_type": "code",
   "execution_count": 12,
   "id": "3d3cc3e0-7218-42e1-b6d1-d0a09940a1a0",
   "metadata": {},
   "outputs": [
    {
     "name": "stdin",
     "output_type": "stream",
     "text": [
      "Give your string : A Santa at NASA\n"
     ]
    },
    {
     "name": "stdout",
     "output_type": "stream",
     "text": [
      "Given string is a palindrome\n"
     ]
    }
   ],
   "source": [
    "is_palindrome()"
   ]
  },
  {
   "cell_type": "markdown",
   "id": "63a13258-4e50-4415-8d5d-b6d18c949f32",
   "metadata": {},
   "source": [
    "7. Write a program to check if a list is sorted in ascending order."
   ]
  },
  {
   "cell_type": "code",
   "execution_count": 13,
   "id": "2ddd9661-021b-445f-bdbb-22724846314f",
   "metadata": {},
   "outputs": [],
   "source": [
    "def check_sorted():\n",
    "    l = input(\"Give elements of list with spaces :\")\n",
    "    l1 = [int(x) for x in l.split()]\n",
    "    if l1 == sorted(l1):\n",
    "        print(\"Given list\", l1, \"is sorted in ascending order\")\n",
    "    else:\n",
    "        print(\"Given list\", l1, \" is not sorted in ascending order\")"
   ]
  },
  {
   "cell_type": "code",
   "execution_count": 14,
   "id": "e220f51f-53e6-4cb2-af60-77126e9f3379",
   "metadata": {},
   "outputs": [
    {
     "name": "stdin",
     "output_type": "stream",
     "text": [
      "Give elements of list with spaces : 2 5 7\n"
     ]
    },
    {
     "name": "stdout",
     "output_type": "stream",
     "text": [
      "Given list [2, 5, 7] is sorted in ascending order\n"
     ]
    }
   ],
   "source": [
    "check_sorted()"
   ]
  },
  {
   "cell_type": "markdown",
   "id": "e47a8aaa-37a1-4ea5-b8f0-8ef2e7353dc6",
   "metadata": {},
   "source": [
    "8. Write a program to find the second largest element in a list."
   ]
  },
  {
   "cell_type": "code",
   "execution_count": 15,
   "id": "977bcc06-2ed2-4c3b-a84c-207f999b669a",
   "metadata": {},
   "outputs": [],
   "source": [
    "def second_largest():\n",
    "    l = input(\"Give elements of list with spaces :\")\n",
    "    l1 = list(set([int(x) for x in l.split()]))\n",
    "    l1.sort()\n",
    "    return l1[-2]"
   ]
  },
  {
   "cell_type": "code",
   "execution_count": 16,
   "id": "a984524b-9350-4778-ab23-3a787b7e6404",
   "metadata": {},
   "outputs": [
    {
     "name": "stdin",
     "output_type": "stream",
     "text": [
      "Give elements of list with spaces : 2 1 5 5 8 8\n"
     ]
    },
    {
     "data": {
      "text/plain": [
       "5"
      ]
     },
     "execution_count": 16,
     "metadata": {},
     "output_type": "execute_result"
    }
   ],
   "source": [
    "second_largest()"
   ]
  },
  {
   "cell_type": "markdown",
   "id": "3d9bfa8a-15cb-4001-a1d3-c2fe51a518c1",
   "metadata": {},
   "source": [
    "9. Given a number and its reverse, find that number raised to the power of its reverse. "
   ]
  },
  {
   "cell_type": "code",
   "execution_count": 17,
   "id": "d450665c-cb20-4c3d-90ee-63d427df669b",
   "metadata": {},
   "outputs": [],
   "source": [
    "def num_raised_reverse():\n",
    "    a = int(input(\"Give your number :\"))\n",
    "    return a ** int(str(a)[::-1])"
   ]
  },
  {
   "cell_type": "code",
   "execution_count": 18,
   "id": "a685002e-8fd8-41d5-b99a-c512e624d2e1",
   "metadata": {},
   "outputs": [
    {
     "name": "stdin",
     "output_type": "stream",
     "text": [
      "Give your number:  22\n"
     ]
    },
    {
     "data": {
      "text/plain": [
       "341427877364219557396646723584"
      ]
     },
     "execution_count": 18,
     "metadata": {},
     "output_type": "execute_result"
    }
   ],
   "source": [
    "num_raised_reverse()"
   ]
  },
  {
   "cell_type": "markdown",
   "id": "c0df7694-eab1-47f7-b266-a3be541de136",
   "metadata": {},
   "source": [
    "10. Given two binary strings, return their sum as a binary string. "
   ]
  },
  {
   "cell_type": "code",
   "execution_count": 19,
   "id": "58a567fc-7de4-4aed-a8d5-b3b005b7c024",
   "metadata": {},
   "outputs": [],
   "source": [
    "def add_binary():\n",
    "    a = input(\"Give your first binary number: \")\n",
    "    b = input(\"Give your second binary number: \")\n",
    "    \n",
    "    c = 0\n",
    "    d = 0\n",
    "    \n",
    "    for index, digit in enumerate(a[::-1]):\n",
    "        c += int(digit) * (2 ** index)\n",
    "    \n",
    "    for index, digit in enumerate(b[::-1]):\n",
    "        d += int(digit) * (2 ** index)\n",
    "    \n",
    "    e = c + d\n",
    "    \n",
    "    l1 = []\n",
    "\n",
    "    while e > 0:\n",
    "        l1.append(e % 2) \n",
    "        e = e // 2\n",
    "\n",
    "    l1.reverse()\n",
    "    \n",
    "    return ''.join(str(bit) for bit in l1)"
   ]
  },
  {
   "cell_type": "code",
   "execution_count": 20,
   "id": "c16d2abc-90e4-4454-8b58-0ed4662eddbb",
   "metadata": {},
   "outputs": [
    {
     "name": "stdin",
     "output_type": "stream",
     "text": [
      "Give your first binary number:  100101\n",
      "Give your second binary number:  011010\n"
     ]
    },
    {
     "data": {
      "text/plain": [
       "'111111'"
      ]
     },
     "execution_count": 20,
     "metadata": {},
     "output_type": "execute_result"
    }
   ],
   "source": [
    "add_binary()"
   ]
  },
  {
   "cell_type": "code",
   "execution_count": 21,
   "id": "9e3dc07e-9aaf-4ba4-9b71-8646c417a293",
   "metadata": {},
   "outputs": [],
   "source": [
    "def add_binary_1():\n",
    "    a = input(\"Give your first binary number: \")\n",
    "    b = input(\"Give your second binary number: \")\n",
    "    \n",
    "    max_len = max(len(a), len(b))\n",
    "    a = a.zfill(max_len)\n",
    "    b = b.zfill(max_len)\n",
    "    \n",
    "    c1 = []\n",
    "    carry = 0\n",
    "    \n",
    "    for i in range(1, max_len + 1):\n",
    "        total = int(a[-i]) + int(b[-i]) + carry\n",
    "        \n",
    "        carry = total // 2\n",
    "        c1.append(str(total % 2))\n",
    "    \n",
    "    if carry:\n",
    "        c1.append(str(carry))\n",
    "    \n",
    "    c1.reverse()\n",
    "    \n",
    "    return ''.join(c1)"
   ]
  },
  {
   "cell_type": "code",
   "execution_count": 22,
   "id": "a4881362-21cf-4b40-8a24-409a05a1262a",
   "metadata": {},
   "outputs": [
    {
     "name": "stdin",
     "output_type": "stream",
     "text": [
      "Give your first binary number:  100101\n",
      "Give your second binary number:  011010\n"
     ]
    },
    {
     "data": {
      "text/plain": [
       "'111111'"
      ]
     },
     "execution_count": 22,
     "metadata": {},
     "output_type": "execute_result"
    }
   ],
   "source": [
    "add_binary_1()"
   ]
  }
 ],
 "metadata": {
  "kernelspec": {
   "display_name": "Python 3 (ipykernel)",
   "language": "python",
   "name": "python3"
  },
  "language_info": {
   "codemirror_mode": {
    "name": "ipython",
    "version": 3
   },
   "file_extension": ".py",
   "mimetype": "text/x-python",
   "name": "python",
   "nbconvert_exporter": "python",
   "pygments_lexer": "ipython3",
   "version": "3.11.7"
  }
 },
 "nbformat": 4,
 "nbformat_minor": 5
}
